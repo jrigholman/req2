{
 "cells": [
  {
   "cell_type": "code",
   "execution_count": 1,
   "id": "83b371f2",
   "metadata": {},
   "outputs": [],
   "source": [
    "import pandas as pd\n",
    "\n",
    "ratings_df = pd.read_csv('movies_ratings.csv')  # user_id, show_id, rating\n",
    "titles_df = pd.read_csv('movies_titles.csv')    # show_id, title, etc.\n"
   ]
  },
  {
   "cell_type": "code",
   "execution_count": 2,
   "id": "d7e99f50",
   "metadata": {},
   "outputs": [],
   "source": [
    "users = ratings_df[['user_id']].drop_duplicates()\n",
    "movies = titles_df[['show_id']].drop_duplicates()\n"
   ]
  },
  {
   "cell_type": "code",
   "execution_count": null,
   "id": "d03fda1e",
   "metadata": {},
   "outputs": [],
   "source": [
    "all_user_movie_pairs = users.merge(movies, how='cross')  \n"
   ]
  },
  {
   "cell_type": "code",
   "execution_count": null,
   "id": "fdd88d8b",
   "metadata": {},
   "outputs": [],
   "source": [
    "rated = ratings_df[['user_id', 'show_id']]  \n",
    "\n",
    "unrated_pairs = all_user_movie_pairs.merge(\n",
    "    rated,\n",
    "    on=['user_id', 'show_id'],\n",
    "    how='left',\n",
    "    indicator=True\n",
    ").query('_merge == \"left_only\"').drop(columns=['_merge'])\n"
   ]
  },
  {
   "cell_type": "code",
   "execution_count": 5,
   "id": "8a7164c9",
   "metadata": {},
   "outputs": [],
   "source": [
    "unrated_pairs.to_csv('unrated_user_movie_pairs.csv', index=False)\n"
   ]
  }
 ],
 "metadata": {
  "kernelspec": {
   "display_name": "Python 3",
   "language": "python",
   "name": "python3"
  },
  "language_info": {
   "codemirror_mode": {
    "name": "ipython",
    "version": 3
   },
   "file_extension": ".py",
   "mimetype": "text/x-python",
   "name": "python",
   "nbconvert_exporter": "python",
   "pygments_lexer": "ipython3",
   "version": "3.11.1"
  }
 },
 "nbformat": 4,
 "nbformat_minor": 5
}
